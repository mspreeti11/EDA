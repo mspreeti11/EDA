{
 "cells": [
  {
   "cell_type": "code",
   "execution_count": 1,
   "id": "234350a0",
   "metadata": {
    "_cell_guid": "b1076dfc-b9ad-4769-8c92-a6c4dae69d19",
    "_uuid": "8f2839f25d086af736a60e9eeb907d3b93b6e0e5",
    "execution": {
     "iopub.execute_input": "2023-03-03T15:32:25.963748Z",
     "iopub.status.busy": "2023-03-03T15:32:25.963190Z",
     "iopub.status.idle": "2023-03-03T15:32:25.987375Z",
     "shell.execute_reply": "2023-03-03T15:32:25.986049Z"
    },
    "papermill": {
     "duration": 0.037155,
     "end_time": "2023-03-03T15:32:25.990056",
     "exception": false,
     "start_time": "2023-03-03T15:32:25.952901",
     "status": "completed"
    },
    "tags": []
   },
   "outputs": [
    {
     "name": "stdout",
     "output_type": "stream",
     "text": [
      "/kaggle/input/amazon-prime-movies-and-tv-shows/amazon_prime_titles.csv\n"
     ]
    }
   ],
   "source": [
    "# This Python 3 environment comes with many helpful analytics libraries installed\n",
    "# It is defined by the kaggle/python Docker image: https://github.com/kaggle/docker-python\n",
    "# For example, here's several helpful packages to load\n",
    "\n",
    "import numpy as np # linear algebra\n",
    "import pandas as pd # data processing, CSV file I/O (e.g. pd.read_csv)\n",
    "\n",
    "# Input data files are available in the read-only \"../input/\" directory\n",
    "# For example, running this (by clicking run or pressing Shift+Enter) will list all files under the input directory\n",
    "\n",
    "import os\n",
    "for dirname, _, filenames in os.walk('/kaggle/input'):\n",
    "    for filename in filenames:\n",
    "        print(os.path.join(dirname, filename))\n",
    "\n",
    "# You can write up to 20GB to the current directory (/kaggle/working/) that gets preserved as output when you create a version using \"Save & Run All\" \n",
    "# You can also write temporary files to /kaggle/temp/, but they won't be saved outside of the current session"
   ]
  },
  {
   "cell_type": "code",
   "execution_count": 2,
   "id": "b48de6d5",
   "metadata": {
    "execution": {
     "iopub.execute_input": "2023-03-03T15:32:26.006677Z",
     "iopub.status.busy": "2023-03-03T15:32:26.005925Z",
     "iopub.status.idle": "2023-03-03T15:32:26.011646Z",
     "shell.execute_reply": "2023-03-03T15:32:26.010201Z"
    },
    "papermill": {
     "duration": 0.016882,
     "end_time": "2023-03-03T15:32:26.014315",
     "exception": false,
     "start_time": "2023-03-03T15:32:25.997433",
     "status": "completed"
    },
    "tags": []
   },
   "outputs": [],
   "source": [
    "import pandas as pd\n",
    "import numpy as np\n",
    "import matplotlib.pyplot as plt"
   ]
  },
  {
   "cell_type": "code",
   "execution_count": 3,
   "id": "c0e8eb2b",
   "metadata": {
    "execution": {
     "iopub.execute_input": "2023-03-03T15:32:26.030436Z",
     "iopub.status.busy": "2023-03-03T15:32:26.029981Z",
     "iopub.status.idle": "2023-03-03T15:32:26.231441Z",
     "shell.execute_reply": "2023-03-03T15:32:26.230165Z"
    },
    "papermill": {
     "duration": 0.212815,
     "end_time": "2023-03-03T15:32:26.234235",
     "exception": false,
     "start_time": "2023-03-03T15:32:26.021420",
     "status": "completed"
    },
    "tags": []
   },
   "outputs": [
    {
     "data": {
      "text/html": [
       "<div>\n",
       "<style scoped>\n",
       "    .dataframe tbody tr th:only-of-type {\n",
       "        vertical-align: middle;\n",
       "    }\n",
       "\n",
       "    .dataframe tbody tr th {\n",
       "        vertical-align: top;\n",
       "    }\n",
       "\n",
       "    .dataframe thead th {\n",
       "        text-align: right;\n",
       "    }\n",
       "</style>\n",
       "<table border=\"1\" class=\"dataframe\">\n",
       "  <thead>\n",
       "    <tr style=\"text-align: right;\">\n",
       "      <th></th>\n",
       "      <th>show_id</th>\n",
       "      <th>type</th>\n",
       "      <th>title</th>\n",
       "      <th>director</th>\n",
       "      <th>cast</th>\n",
       "      <th>country</th>\n",
       "      <th>date_added</th>\n",
       "      <th>release_year</th>\n",
       "      <th>rating</th>\n",
       "      <th>duration</th>\n",
       "      <th>listed_in</th>\n",
       "      <th>description</th>\n",
       "    </tr>\n",
       "  </thead>\n",
       "  <tbody>\n",
       "    <tr>\n",
       "      <th>0</th>\n",
       "      <td>s1</td>\n",
       "      <td>Movie</td>\n",
       "      <td>The Grand Seduction</td>\n",
       "      <td>Don McKellar</td>\n",
       "      <td>Brendan Gleeson, Taylor Kitsch, Gordon Pinsent</td>\n",
       "      <td>Canada</td>\n",
       "      <td>March 30, 2021</td>\n",
       "      <td>2014</td>\n",
       "      <td>NaN</td>\n",
       "      <td>113 min</td>\n",
       "      <td>Comedy, Drama</td>\n",
       "      <td>A small fishing village must procure a local d...</td>\n",
       "    </tr>\n",
       "    <tr>\n",
       "      <th>1</th>\n",
       "      <td>s2</td>\n",
       "      <td>Movie</td>\n",
       "      <td>Take Care Good Night</td>\n",
       "      <td>Girish Joshi</td>\n",
       "      <td>Mahesh Manjrekar, Abhay Mahajan, Sachin Khedekar</td>\n",
       "      <td>India</td>\n",
       "      <td>March 30, 2021</td>\n",
       "      <td>2018</td>\n",
       "      <td>13+</td>\n",
       "      <td>110 min</td>\n",
       "      <td>Drama, International</td>\n",
       "      <td>A Metro Family decides to fight a Cyber Crimin...</td>\n",
       "    </tr>\n",
       "    <tr>\n",
       "      <th>2</th>\n",
       "      <td>s3</td>\n",
       "      <td>Movie</td>\n",
       "      <td>Secrets of Deception</td>\n",
       "      <td>Josh Webber</td>\n",
       "      <td>Tom Sizemore, Lorenzo Lamas, Robert LaSardo, R...</td>\n",
       "      <td>United States</td>\n",
       "      <td>March 30, 2021</td>\n",
       "      <td>2017</td>\n",
       "      <td>NaN</td>\n",
       "      <td>74 min</td>\n",
       "      <td>Action, Drama, Suspense</td>\n",
       "      <td>After a man discovers his wife is cheating on ...</td>\n",
       "    </tr>\n",
       "    <tr>\n",
       "      <th>3</th>\n",
       "      <td>s4</td>\n",
       "      <td>Movie</td>\n",
       "      <td>Pink: Staying True</td>\n",
       "      <td>Sonia Anderson</td>\n",
       "      <td>Interviews with: Pink, Adele, Beyoncé, Britney...</td>\n",
       "      <td>United States</td>\n",
       "      <td>March 30, 2021</td>\n",
       "      <td>2014</td>\n",
       "      <td>NaN</td>\n",
       "      <td>69 min</td>\n",
       "      <td>Documentary</td>\n",
       "      <td>Pink breaks the mold once again, bringing her ...</td>\n",
       "    </tr>\n",
       "    <tr>\n",
       "      <th>4</th>\n",
       "      <td>s5</td>\n",
       "      <td>Movie</td>\n",
       "      <td>Monster Maker</td>\n",
       "      <td>Giles Foster</td>\n",
       "      <td>Harry Dean Stanton, Kieran O'Brien, George Cos...</td>\n",
       "      <td>United Kingdom</td>\n",
       "      <td>March 30, 2021</td>\n",
       "      <td>1989</td>\n",
       "      <td>NaN</td>\n",
       "      <td>45 min</td>\n",
       "      <td>Drama, Fantasy</td>\n",
       "      <td>Teenage Matt Banting wants to work with a famo...</td>\n",
       "    </tr>\n",
       "  </tbody>\n",
       "</table>\n",
       "</div>"
      ],
      "text/plain": [
       "  show_id   type                 title        director  \\\n",
       "0      s1  Movie   The Grand Seduction    Don McKellar   \n",
       "1      s2  Movie  Take Care Good Night    Girish Joshi   \n",
       "2      s3  Movie  Secrets of Deception     Josh Webber   \n",
       "3      s4  Movie    Pink: Staying True  Sonia Anderson   \n",
       "4      s5  Movie         Monster Maker    Giles Foster   \n",
       "\n",
       "                                                cast         country  \\\n",
       "0     Brendan Gleeson, Taylor Kitsch, Gordon Pinsent          Canada   \n",
       "1   Mahesh Manjrekar, Abhay Mahajan, Sachin Khedekar           India   \n",
       "2  Tom Sizemore, Lorenzo Lamas, Robert LaSardo, R...   United States   \n",
       "3  Interviews with: Pink, Adele, Beyoncé, Britney...   United States   \n",
       "4  Harry Dean Stanton, Kieran O'Brien, George Cos...  United Kingdom   \n",
       "\n",
       "       date_added  release_year rating duration                listed_in  \\\n",
       "0  March 30, 2021          2014    NaN  113 min            Comedy, Drama   \n",
       "1  March 30, 2021          2018    13+  110 min     Drama, International   \n",
       "2  March 30, 2021          2017    NaN   74 min  Action, Drama, Suspense   \n",
       "3  March 30, 2021          2014    NaN   69 min              Documentary   \n",
       "4  March 30, 2021          1989    NaN   45 min           Drama, Fantasy   \n",
       "\n",
       "                                         description  \n",
       "0  A small fishing village must procure a local d...  \n",
       "1  A Metro Family decides to fight a Cyber Crimin...  \n",
       "2  After a man discovers his wife is cheating on ...  \n",
       "3  Pink breaks the mold once again, bringing her ...  \n",
       "4  Teenage Matt Banting wants to work with a famo...  "
      ]
     },
     "execution_count": 3,
     "metadata": {},
     "output_type": "execute_result"
    }
   ],
   "source": [
    "#1. Import the dataset into the system\n",
    "dataset = pd.read_csv('/kaggle/input/amazon-prime-movies-and-tv-shows/amazon_prime_titles.csv')\n",
    "dataset.head()"
   ]
  },
  {
   "cell_type": "code",
   "execution_count": 4,
   "id": "72dcecbb",
   "metadata": {
    "execution": {
     "iopub.execute_input": "2023-03-03T15:32:26.251067Z",
     "iopub.status.busy": "2023-03-03T15:32:26.250633Z",
     "iopub.status.idle": "2023-03-03T15:32:26.257781Z",
     "shell.execute_reply": "2023-03-03T15:32:26.256565Z"
    },
    "papermill": {
     "duration": 0.018908,
     "end_time": "2023-03-03T15:32:26.260639",
     "exception": false,
     "start_time": "2023-03-03T15:32:26.241731",
     "status": "completed"
    },
    "tags": []
   },
   "outputs": [
    {
     "data": {
      "text/plain": [
       "(9668, 12)"
      ]
     },
     "execution_count": 4,
     "metadata": {},
     "output_type": "execute_result"
    }
   ],
   "source": [
    "#2. Show how many rows and columns are present\n",
    "dataset.shape"
   ]
  },
  {
   "cell_type": "code",
   "execution_count": 5,
   "id": "1eb36f27",
   "metadata": {
    "execution": {
     "iopub.execute_input": "2023-03-03T15:32:26.278413Z",
     "iopub.status.busy": "2023-03-03T15:32:26.277561Z",
     "iopub.status.idle": "2023-03-03T15:32:26.309320Z",
     "shell.execute_reply": "2023-03-03T15:32:26.307612Z"
    },
    "papermill": {
     "duration": 0.043982,
     "end_time": "2023-03-03T15:32:26.312554",
     "exception": false,
     "start_time": "2023-03-03T15:32:26.268572",
     "status": "completed"
    },
    "tags": []
   },
   "outputs": [
    {
     "name": "stdout",
     "output_type": "stream",
     "text": [
      "<class 'pandas.core.frame.DataFrame'>\n",
      "RangeIndex: 9668 entries, 0 to 9667\n",
      "Data columns (total 12 columns):\n",
      " #   Column        Non-Null Count  Dtype \n",
      "---  ------        --------------  ----- \n",
      " 0   show_id       9668 non-null   object\n",
      " 1   type          9668 non-null   object\n",
      " 2   title         9668 non-null   object\n",
      " 3   director      7586 non-null   object\n",
      " 4   cast          8435 non-null   object\n",
      " 5   country       672 non-null    object\n",
      " 6   date_added    155 non-null    object\n",
      " 7   release_year  9668 non-null   int64 \n",
      " 8   rating        9331 non-null   object\n",
      " 9   duration      9668 non-null   object\n",
      " 10  listed_in     9668 non-null   object\n",
      " 11  description   9668 non-null   object\n",
      "dtypes: int64(1), object(11)\n",
      "memory usage: 906.5+ KB\n"
     ]
    }
   ],
   "source": [
    "#3. What is a datatype of each column\n",
    "dataset.info()"
   ]
  },
  {
   "cell_type": "code",
   "execution_count": 6,
   "id": "78fe7b25",
   "metadata": {
    "execution": {
     "iopub.execute_input": "2023-03-03T15:32:26.331398Z",
     "iopub.status.busy": "2023-03-03T15:32:26.330199Z",
     "iopub.status.idle": "2023-03-03T15:32:26.365594Z",
     "shell.execute_reply": "2023-03-03T15:32:26.364297Z"
    },
    "papermill": {
     "duration": 0.047682,
     "end_time": "2023-03-03T15:32:26.368713",
     "exception": false,
     "start_time": "2023-03-03T15:32:26.321031",
     "status": "completed"
    },
    "tags": []
   },
   "outputs": [],
   "source": [
    "#4. If datatype is different then expected then change it\n",
    "\n",
    "#4a. Change show_id to integer by removing letter 's'\n",
    "\n",
    "dataset['show_id']=dataset['show_id'].str.replace('s', '').astype(int)\n",
    "\n",
    "#4b. Date_added should be in date format\n",
    "\n",
    "dataset['date_added']=pd.to_datetime(dataset['date_added'])\n",
    "dataset['year_added'] = dataset['date_added'].dt.year\n",
    "dataset['month_added']= dataset['date_added'].dt.month"
   ]
  },
  {
   "cell_type": "code",
   "execution_count": 7,
   "id": "f50ccbef",
   "metadata": {
    "execution": {
     "iopub.execute_input": "2023-03-03T15:32:26.385653Z",
     "iopub.status.busy": "2023-03-03T15:32:26.385214Z",
     "iopub.status.idle": "2023-03-03T15:32:26.407150Z",
     "shell.execute_reply": "2023-03-03T15:32:26.405339Z"
    },
    "papermill": {
     "duration": 0.035282,
     "end_time": "2023-03-03T15:32:26.411437",
     "exception": false,
     "start_time": "2023-03-03T15:32:26.376155",
     "status": "completed"
    },
    "tags": []
   },
   "outputs": [
    {
     "name": "stdout",
     "output_type": "stream",
     "text": [
      "<class 'pandas.core.frame.DataFrame'>\n",
      "RangeIndex: 9668 entries, 0 to 9667\n",
      "Data columns (total 14 columns):\n",
      " #   Column        Non-Null Count  Dtype         \n",
      "---  ------        --------------  -----         \n",
      " 0   show_id       9668 non-null   int64         \n",
      " 1   type          9668 non-null   object        \n",
      " 2   title         9668 non-null   object        \n",
      " 3   director      7586 non-null   object        \n",
      " 4   cast          8435 non-null   object        \n",
      " 5   country       672 non-null    object        \n",
      " 6   date_added    155 non-null    datetime64[ns]\n",
      " 7   release_year  9668 non-null   int64         \n",
      " 8   rating        9331 non-null   object        \n",
      " 9   duration      9668 non-null   object        \n",
      " 10  listed_in     9668 non-null   object        \n",
      " 11  description   9668 non-null   object        \n",
      " 12  year_added    155 non-null    float64       \n",
      " 13  month_added   155 non-null    float64       \n",
      "dtypes: datetime64[ns](1), float64(2), int64(2), object(9)\n",
      "memory usage: 1.0+ MB\n"
     ]
    }
   ],
   "source": [
    "#5. Check for missing values in the dataset. #Missing Data: Director, Cast, Country, Date_added, rating\n",
    "dataset.info()"
   ]
  },
  {
   "cell_type": "code",
   "execution_count": 8,
   "id": "68a6e2c1",
   "metadata": {
    "execution": {
     "iopub.execute_input": "2023-03-03T15:32:26.429882Z",
     "iopub.status.busy": "2023-03-03T15:32:26.429399Z",
     "iopub.status.idle": "2023-03-03T15:32:26.438027Z",
     "shell.execute_reply": "2023-03-03T15:32:26.437057Z"
    },
    "papermill": {
     "duration": 0.021344,
     "end_time": "2023-03-03T15:32:26.440660",
     "exception": false,
     "start_time": "2023-03-03T15:32:26.419316",
     "status": "completed"
    },
    "tags": []
   },
   "outputs": [
    {
     "data": {
      "text/plain": [
       "array(['Movie', 'TV Show'], dtype=object)"
      ]
     },
     "execution_count": 8,
     "metadata": {},
     "output_type": "execute_result"
    }
   ],
   "source": [
    "dataset.type.unique()"
   ]
  },
  {
   "cell_type": "code",
   "execution_count": 9,
   "id": "f24ea04d",
   "metadata": {
    "execution": {
     "iopub.execute_input": "2023-03-03T15:32:26.459559Z",
     "iopub.status.busy": "2023-03-03T15:32:26.458749Z",
     "iopub.status.idle": "2023-03-03T15:32:26.476065Z",
     "shell.execute_reply": "2023-03-03T15:32:26.474378Z"
    },
    "papermill": {
     "duration": 0.030348,
     "end_time": "2023-03-03T15:32:26.478951",
     "exception": false,
     "start_time": "2023-03-03T15:32:26.448603",
     "status": "completed"
    },
    "tags": []
   },
   "outputs": [
    {
     "name": "stdout",
     "output_type": "stream",
     "text": [
      "show_id          0.000000\n",
      "type             0.000000\n",
      "title            0.000000\n",
      "director        21.534961\n",
      "cast            12.753413\n",
      "country         93.049235\n",
      "date_added      98.396773\n",
      "release_year     0.000000\n",
      "rating           3.485726\n",
      "duration         0.000000\n",
      "listed_in        0.000000\n",
      "description      0.000000\n",
      "year_added      98.396773\n",
      "month_added     98.396773\n",
      "dtype: float64\n"
     ]
    }
   ],
   "source": [
    "#6. Show missing values % in each column\n",
    "percent_missing = dataset.isnull().sum() * 100 / len(dataset)\n",
    "missing_value_dataset = pd.DataFrame({'column_name': dataset.columns,\n",
    "                                 'percent_missing': percent_missing})\n",
    "print(percent_missing)"
   ]
  },
  {
   "cell_type": "code",
   "execution_count": 10,
   "id": "a3be3f62",
   "metadata": {
    "execution": {
     "iopub.execute_input": "2023-03-03T15:32:26.497157Z",
     "iopub.status.busy": "2023-03-03T15:32:26.496734Z",
     "iopub.status.idle": "2023-03-03T15:32:26.791592Z",
     "shell.execute_reply": "2023-03-03T15:32:26.790307Z"
    },
    "papermill": {
     "duration": 0.307547,
     "end_time": "2023-03-03T15:32:26.794655",
     "exception": false,
     "start_time": "2023-03-03T15:32:26.487108",
     "status": "completed"
    },
    "tags": []
   },
   "outputs": [],
   "source": [
    "#7. Divide the column duration into duration_movie and duration_season\n",
    "\n",
    "dataset['duration_season'] = dataset.apply(lambda x : x['duration'].split(\" \")[0] if \"Season\" in x['duration'] else 0, axis = 1)\n",
    "dataset['duration_movie'] = dataset.apply(lambda x : x['duration'].split(\" \")[0] if \"Season\" not in x['duration'] else 0, axis = 1)"
   ]
  },
  {
   "cell_type": "code",
   "execution_count": 11,
   "id": "c48b9a0b",
   "metadata": {
    "execution": {
     "iopub.execute_input": "2023-03-03T15:32:26.812989Z",
     "iopub.status.busy": "2023-03-03T15:32:26.812002Z",
     "iopub.status.idle": "2023-03-03T15:32:27.011135Z",
     "shell.execute_reply": "2023-03-03T15:32:27.010075Z"
    },
    "papermill": {
     "duration": 0.211384,
     "end_time": "2023-03-03T15:32:27.014046",
     "exception": false,
     "start_time": "2023-03-03T15:32:26.802662",
     "status": "completed"
    },
    "tags": []
   },
   "outputs": [],
   "source": [
    "dataset.head()#8. Divide column 'listed_in' by genre1, genre2...\n",
    "\n",
    "dataset['Genre1'] = dataset['listed_in'].str.split(',', expand=True)[0]\n",
    "dataset['Genre2'] = dataset['listed_in'].str.split(',', expand=True)[1]\n",
    "dataset['Genre3'] = dataset['listed_in'].str.split(',', expand=True)[2]\n",
    "dataset['Genre4'] = dataset['listed_in'].str.split(',', expand=True)[3]\n",
    "dataset['Genre5'] = dataset['listed_in'].str.split(',', expand=True)[4]"
   ]
  },
  {
   "cell_type": "code",
   "execution_count": 12,
   "id": "052febab",
   "metadata": {
    "execution": {
     "iopub.execute_input": "2023-03-03T15:32:27.031834Z",
     "iopub.status.busy": "2023-03-03T15:32:27.031402Z",
     "iopub.status.idle": "2023-03-03T15:32:27.039918Z",
     "shell.execute_reply": "2023-03-03T15:32:27.038730Z"
    },
    "papermill": {
     "duration": 0.02067,
     "end_time": "2023-03-03T15:32:27.042733",
     "exception": false,
     "start_time": "2023-03-03T15:32:27.022063",
     "status": "completed"
    },
    "tags": []
   },
   "outputs": [
    {
     "name": "stdout",
     "output_type": "stream",
     "text": [
      "range(2021, 1920)\n"
     ]
    }
   ],
   "source": [
    "#9. What is the time period range of this dataset (hint: release_year)\n",
    "\n",
    "dataset_range = range(max(dataset.release_year), min(dataset.release_year))\n",
    "print(dataset_range)"
   ]
  },
  {
   "cell_type": "code",
   "execution_count": 13,
   "id": "c47e9473",
   "metadata": {
    "execution": {
     "iopub.execute_input": "2023-03-03T15:32:27.061140Z",
     "iopub.status.busy": "2023-03-03T15:32:27.060692Z",
     "iopub.status.idle": "2023-03-03T15:32:27.070888Z",
     "shell.execute_reply": "2023-03-03T15:32:27.069551Z"
    },
    "papermill": {
     "duration": 0.022329,
     "end_time": "2023-03-03T15:32:27.073372",
     "exception": false,
     "start_time": "2023-03-03T15:32:27.051043",
     "status": "completed"
    },
    "tags": []
   },
   "outputs": [
    {
     "data": {
      "text/plain": [
       "Movie      7814\n",
       "TV Show    1854\n",
       "Name: type, dtype: int64"
      ]
     },
     "execution_count": 13,
     "metadata": {},
     "output_type": "execute_result"
    }
   ],
   "source": [
    "#10. How many movies and tv shows are present. Show both count and % of total\n",
    "\n",
    "dataset.type.value_counts()"
   ]
  },
  {
   "cell_type": "code",
   "execution_count": 14,
   "id": "1419da6f",
   "metadata": {
    "execution": {
     "iopub.execute_input": "2023-03-03T15:32:27.091647Z",
     "iopub.status.busy": "2023-03-03T15:32:27.091197Z",
     "iopub.status.idle": "2023-03-03T15:32:27.101289Z",
     "shell.execute_reply": "2023-03-03T15:32:27.100057Z"
    },
    "papermill": {
     "duration": 0.022629,
     "end_time": "2023-03-03T15:32:27.103995",
     "exception": false,
     "start_time": "2023-03-03T15:32:27.081366",
     "status": "completed"
    },
    "tags": []
   },
   "outputs": [
    {
     "data": {
      "text/plain": [
       "Movie      80.823335\n",
       "TV Show    19.176665\n",
       "Name: type, dtype: float64"
      ]
     },
     "execution_count": 14,
     "metadata": {},
     "output_type": "execute_result"
    }
   ],
   "source": [
    "#10. How many movies and tv shows are present. Show both count and % of total\n",
    "dataset.type.value_counts(normalize=True)*100"
   ]
  },
  {
   "cell_type": "code",
   "execution_count": 15,
   "id": "367112d8",
   "metadata": {
    "execution": {
     "iopub.execute_input": "2023-03-03T15:32:27.122564Z",
     "iopub.status.busy": "2023-03-03T15:32:27.122128Z",
     "iopub.status.idle": "2023-03-03T15:32:27.140484Z",
     "shell.execute_reply": "2023-03-03T15:32:27.139468Z"
    },
    "papermill": {
     "duration": 0.031594,
     "end_time": "2023-03-03T15:32:27.143882",
     "exception": false,
     "start_time": "2023-03-03T15:32:27.112288",
     "status": "completed"
    },
    "tags": []
   },
   "outputs": [
    {
     "name": "stdout",
     "output_type": "stream",
     "text": [
      "Drama                        1922\n",
      "Action                       1502\n",
      "Comedy                       1253\n",
      "Documentary                   623\n",
      "Horror                        522\n",
      "Arts                          420\n",
      "Animation                     256\n",
      "Kids                          254\n",
      "Suspense                      187\n",
      "Arthouse                      131\n",
      "Special Interest              120\n",
      "Romance                       119\n",
      "Western                       100\n",
      "Music Videos and Concerts     100\n",
      "Fitness                        72\n",
      "Science Fiction                68\n",
      "Adventure                      59\n",
      "International                  37\n",
      "Fantasy                        16\n",
      "Anime                          16\n",
      "Faith and Spirituality         12\n",
      "LGBTQ                          10\n",
      "Military and War                5\n",
      "Sports                          5\n",
      "Historical                      3\n",
      "Young Adult Audience            2\n",
      "Name: Genre1, dtype: int64\n"
     ]
    }
   ],
   "source": [
    "#11. What type of movies are generally based on according to Genre1\n",
    "\n",
    "print(dataset[dataset['type']=='Movie']['Genre1'].value_counts())"
   ]
  },
  {
   "cell_type": "code",
   "execution_count": 16,
   "id": "fe8b5f2f",
   "metadata": {
    "execution": {
     "iopub.execute_input": "2023-03-03T15:32:27.162798Z",
     "iopub.status.busy": "2023-03-03T15:32:27.162388Z",
     "iopub.status.idle": "2023-03-03T15:32:27.173925Z",
     "shell.execute_reply": "2023-03-03T15:32:27.172510Z"
    },
    "papermill": {
     "duration": 0.023729,
     "end_time": "2023-03-03T15:32:27.176580",
     "exception": false,
     "start_time": "2023-03-03T15:32:27.152851",
     "status": "completed"
    },
    "tags": []
   },
   "outputs": [
    {
     "name": "stdout",
     "output_type": "stream",
     "text": [
      "Drama                        294\n",
      "Documentary                  290\n",
      "TV Shows                     263\n",
      "Animation                    242\n",
      "Comedy                       222\n",
      "Action                       155\n",
      "Kids                         119\n",
      "Special Interest              68\n",
      "Arts                          37\n",
      "Unscripted                    29\n",
      "Anime                         28\n",
      "Science Fiction               17\n",
      "Sports                        14\n",
      "Horror                        13\n",
      "Adventure                     12\n",
      "Fitness                       11\n",
      "International                 10\n",
      "Romance                        7\n",
      "Suspense                       7\n",
      "Talk Show and Variety          3\n",
      "LGBTQ                          3\n",
      "Music Videos and Concerts      3\n",
      "Fantasy                        2\n",
      "Western                        2\n",
      "Young Adult Audience           1\n",
      "Arthouse                       1\n",
      "Faith and Spirituality         1\n",
      "Name: Genre1, dtype: int64\n"
     ]
    }
   ],
   "source": [
    "#12. What type of TV shows are generally based on according to Genre1\n",
    "\n",
    "print(dataset[dataset['type']=='TV Show']['Genre1'].value_counts())"
   ]
  },
  {
   "cell_type": "code",
   "execution_count": 17,
   "id": "6c204622",
   "metadata": {
    "execution": {
     "iopub.execute_input": "2023-03-03T15:32:27.195389Z",
     "iopub.status.busy": "2023-03-03T15:32:27.194544Z",
     "iopub.status.idle": "2023-03-03T15:32:27.208534Z",
     "shell.execute_reply": "2023-03-03T15:32:27.207211Z"
    },
    "papermill": {
     "duration": 0.026379,
     "end_time": "2023-03-03T15:32:27.211284",
     "exception": false,
     "start_time": "2023-03-03T15:32:27.184905",
     "status": "completed"
    },
    "tags": []
   },
   "outputs": [],
   "source": [
    "#13. Clean the new duration column and remove min and season from numbers\n",
    "\n",
    "dataset['duration_movie'] = dataset['duration_movie'].astype(int)\n",
    "dataset['duration_season'] = dataset['duration_season'].astype(int)"
   ]
  },
  {
   "cell_type": "code",
   "execution_count": 18,
   "id": "dc665679",
   "metadata": {
    "execution": {
     "iopub.execute_input": "2023-03-03T15:32:27.229765Z",
     "iopub.status.busy": "2023-03-03T15:32:27.229323Z",
     "iopub.status.idle": "2023-03-03T15:32:27.245750Z",
     "shell.execute_reply": "2023-03-03T15:32:27.244601Z"
    },
    "papermill": {
     "duration": 0.028587,
     "end_time": "2023-03-03T15:32:27.248303",
     "exception": false,
     "start_time": "2023-03-03T15:32:27.219716",
     "status": "completed"
    },
    "tags": []
   },
   "outputs": [
    {
     "data": {
      "text/html": [
       "<div>\n",
       "<style scoped>\n",
       "    .dataframe tbody tr th:only-of-type {\n",
       "        vertical-align: middle;\n",
       "    }\n",
       "\n",
       "    .dataframe tbody tr th {\n",
       "        vertical-align: top;\n",
       "    }\n",
       "\n",
       "    .dataframe thead th {\n",
       "        text-align: right;\n",
       "    }\n",
       "</style>\n",
       "<table border=\"1\" class=\"dataframe\">\n",
       "  <thead>\n",
       "    <tr style=\"text-align: right;\">\n",
       "      <th></th>\n",
       "      <th>duration_movie</th>\n",
       "    </tr>\n",
       "    <tr>\n",
       "      <th>Genre1</th>\n",
       "      <th></th>\n",
       "    </tr>\n",
       "  </thead>\n",
       "  <tbody>\n",
       "    <tr>\n",
       "      <th>Action</th>\n",
       "      <td>91.585395</td>\n",
       "    </tr>\n",
       "    <tr>\n",
       "      <th>Adventure</th>\n",
       "      <td>81.619718</td>\n",
       "    </tr>\n",
       "    <tr>\n",
       "      <th>Animation</th>\n",
       "      <td>26.632530</td>\n",
       "    </tr>\n",
       "    <tr>\n",
       "      <th>Anime</th>\n",
       "      <td>31.227273</td>\n",
       "    </tr>\n",
       "    <tr>\n",
       "      <th>Arthouse</th>\n",
       "      <td>91.204545</td>\n",
       "    </tr>\n",
       "    <tr>\n",
       "      <th>Arts</th>\n",
       "      <td>67.477024</td>\n",
       "    </tr>\n",
       "    <tr>\n",
       "      <th>Comedy</th>\n",
       "      <td>82.231864</td>\n",
       "    </tr>\n",
       "    <tr>\n",
       "      <th>Documentary</th>\n",
       "      <td>55.782037</td>\n",
       "    </tr>\n",
       "    <tr>\n",
       "      <th>Drama</th>\n",
       "      <td>87.027978</td>\n",
       "    </tr>\n",
       "    <tr>\n",
       "      <th>Faith and Spirituality</th>\n",
       "      <td>54.615385</td>\n",
       "    </tr>\n",
       "    <tr>\n",
       "      <th>Fantasy</th>\n",
       "      <td>79.500000</td>\n",
       "    </tr>\n",
       "    <tr>\n",
       "      <th>Fitness</th>\n",
       "      <td>18.180723</td>\n",
       "    </tr>\n",
       "    <tr>\n",
       "      <th>Historical</th>\n",
       "      <td>103.666667</td>\n",
       "    </tr>\n",
       "    <tr>\n",
       "      <th>Horror</th>\n",
       "      <td>86.609346</td>\n",
       "    </tr>\n",
       "    <tr>\n",
       "      <th>International</th>\n",
       "      <td>93.234043</td>\n",
       "    </tr>\n",
       "    <tr>\n",
       "      <th>Kids</th>\n",
       "      <td>29.088472</td>\n",
       "    </tr>\n",
       "    <tr>\n",
       "      <th>LGBTQ</th>\n",
       "      <td>65.384615</td>\n",
       "    </tr>\n",
       "    <tr>\n",
       "      <th>Military and War</th>\n",
       "      <td>70.400000</td>\n",
       "    </tr>\n",
       "    <tr>\n",
       "      <th>Music Videos and Concerts</th>\n",
       "      <td>47.407767</td>\n",
       "    </tr>\n",
       "    <tr>\n",
       "      <th>Romance</th>\n",
       "      <td>109.230159</td>\n",
       "    </tr>\n",
       "    <tr>\n",
       "      <th>Science Fiction</th>\n",
       "      <td>70.235294</td>\n",
       "    </tr>\n",
       "    <tr>\n",
       "      <th>Special Interest</th>\n",
       "      <td>83.159574</td>\n",
       "    </tr>\n",
       "    <tr>\n",
       "      <th>Sports</th>\n",
       "      <td>35.263158</td>\n",
       "    </tr>\n",
       "    <tr>\n",
       "      <th>Suspense</th>\n",
       "      <td>93.262887</td>\n",
       "    </tr>\n",
       "    <tr>\n",
       "      <th>TV Shows</th>\n",
       "      <td>0.000000</td>\n",
       "    </tr>\n",
       "    <tr>\n",
       "      <th>Talk Show and Variety</th>\n",
       "      <td>0.000000</td>\n",
       "    </tr>\n",
       "    <tr>\n",
       "      <th>Unscripted</th>\n",
       "      <td>0.000000</td>\n",
       "    </tr>\n",
       "    <tr>\n",
       "      <th>Western</th>\n",
       "      <td>72.784314</td>\n",
       "    </tr>\n",
       "    <tr>\n",
       "      <th>Young Adult Audience</th>\n",
       "      <td>67.666667</td>\n",
       "    </tr>\n",
       "  </tbody>\n",
       "</table>\n",
       "</div>"
      ],
      "text/plain": [
       "                           duration_movie\n",
       "Genre1                                   \n",
       "Action                          91.585395\n",
       "Adventure                       81.619718\n",
       "Animation                       26.632530\n",
       "Anime                           31.227273\n",
       "Arthouse                        91.204545\n",
       "Arts                            67.477024\n",
       "Comedy                          82.231864\n",
       "Documentary                     55.782037\n",
       "Drama                           87.027978\n",
       "Faith and Spirituality          54.615385\n",
       "Fantasy                         79.500000\n",
       "Fitness                         18.180723\n",
       "Historical                     103.666667\n",
       "Horror                          86.609346\n",
       "International                   93.234043\n",
       "Kids                            29.088472\n",
       "LGBTQ                           65.384615\n",
       "Military and War                70.400000\n",
       "Music Videos and Concerts       47.407767\n",
       "Romance                        109.230159\n",
       "Science Fiction                 70.235294\n",
       "Special Interest                83.159574\n",
       "Sports                          35.263158\n",
       "Suspense                        93.262887\n",
       "TV Shows                         0.000000\n",
       "Talk Show and Variety            0.000000\n",
       "Unscripted                       0.000000\n",
       "Western                         72.784314\n",
       "Young Adult Audience            67.666667"
      ]
     },
     "execution_count": 18,
     "metadata": {},
     "output_type": "execute_result"
    }
   ],
   "source": [
    "#14. What is average time of movie by Genre1\n",
    "\n",
    "dataset.groupby('Genre1').agg({'duration_movie':('mean')})"
   ]
  },
  {
   "cell_type": "code",
   "execution_count": 19,
   "id": "7330c9e1",
   "metadata": {
    "execution": {
     "iopub.execute_input": "2023-03-03T15:32:27.267425Z",
     "iopub.status.busy": "2023-03-03T15:32:27.266985Z",
     "iopub.status.idle": "2023-03-03T15:32:27.282623Z",
     "shell.execute_reply": "2023-03-03T15:32:27.281588Z"
    },
    "papermill": {
     "duration": 0.028485,
     "end_time": "2023-03-03T15:32:27.285252",
     "exception": false,
     "start_time": "2023-03-03T15:32:27.256767",
     "status": "completed"
    },
    "tags": []
   },
   "outputs": [
    {
     "data": {
      "text/html": [
       "<div>\n",
       "<style scoped>\n",
       "    .dataframe tbody tr th:only-of-type {\n",
       "        vertical-align: middle;\n",
       "    }\n",
       "\n",
       "    .dataframe tbody tr th {\n",
       "        vertical-align: top;\n",
       "    }\n",
       "\n",
       "    .dataframe thead th {\n",
       "        text-align: right;\n",
       "    }\n",
       "</style>\n",
       "<table border=\"1\" class=\"dataframe\">\n",
       "  <thead>\n",
       "    <tr style=\"text-align: right;\">\n",
       "      <th></th>\n",
       "      <th>duration_season</th>\n",
       "    </tr>\n",
       "    <tr>\n",
       "      <th>Genre1</th>\n",
       "      <th></th>\n",
       "    </tr>\n",
       "  </thead>\n",
       "  <tbody>\n",
       "    <tr>\n",
       "      <th>Action</th>\n",
       "      <td>0.161135</td>\n",
       "    </tr>\n",
       "    <tr>\n",
       "      <th>Adventure</th>\n",
       "      <td>0.197183</td>\n",
       "    </tr>\n",
       "    <tr>\n",
       "      <th>Animation</th>\n",
       "      <td>0.857430</td>\n",
       "    </tr>\n",
       "    <tr>\n",
       "      <th>Anime</th>\n",
       "      <td>0.795455</td>\n",
       "    </tr>\n",
       "    <tr>\n",
       "      <th>Arthouse</th>\n",
       "      <td>0.007576</td>\n",
       "    </tr>\n",
       "    <tr>\n",
       "      <th>Arts</th>\n",
       "      <td>0.113786</td>\n",
       "    </tr>\n",
       "    <tr>\n",
       "      <th>Comedy</th>\n",
       "      <td>0.307119</td>\n",
       "    </tr>\n",
       "    <tr>\n",
       "      <th>Documentary</th>\n",
       "      <td>0.483023</td>\n",
       "    </tr>\n",
       "    <tr>\n",
       "      <th>Drama</th>\n",
       "      <td>0.219765</td>\n",
       "    </tr>\n",
       "    <tr>\n",
       "      <th>Faith and Spirituality</th>\n",
       "      <td>0.076923</td>\n",
       "    </tr>\n",
       "    <tr>\n",
       "      <th>Fantasy</th>\n",
       "      <td>0.111111</td>\n",
       "    </tr>\n",
       "    <tr>\n",
       "      <th>Fitness</th>\n",
       "      <td>0.144578</td>\n",
       "    </tr>\n",
       "    <tr>\n",
       "      <th>Historical</th>\n",
       "      <td>0.000000</td>\n",
       "    </tr>\n",
       "    <tr>\n",
       "      <th>Horror</th>\n",
       "      <td>0.024299</td>\n",
       "    </tr>\n",
       "    <tr>\n",
       "      <th>International</th>\n",
       "      <td>0.255319</td>\n",
       "    </tr>\n",
       "    <tr>\n",
       "      <th>Kids</th>\n",
       "      <td>0.785523</td>\n",
       "    </tr>\n",
       "    <tr>\n",
       "      <th>LGBTQ</th>\n",
       "      <td>0.307692</td>\n",
       "    </tr>\n",
       "    <tr>\n",
       "      <th>Military and War</th>\n",
       "      <td>0.000000</td>\n",
       "    </tr>\n",
       "    <tr>\n",
       "      <th>Music Videos and Concerts</th>\n",
       "      <td>0.029126</td>\n",
       "    </tr>\n",
       "    <tr>\n",
       "      <th>Romance</th>\n",
       "      <td>0.055556</td>\n",
       "    </tr>\n",
       "    <tr>\n",
       "      <th>Science Fiction</th>\n",
       "      <td>0.364706</td>\n",
       "    </tr>\n",
       "    <tr>\n",
       "      <th>Special Interest</th>\n",
       "      <td>0.638298</td>\n",
       "    </tr>\n",
       "    <tr>\n",
       "      <th>Sports</th>\n",
       "      <td>0.842105</td>\n",
       "    </tr>\n",
       "    <tr>\n",
       "      <th>Suspense</th>\n",
       "      <td>0.051546</td>\n",
       "    </tr>\n",
       "    <tr>\n",
       "      <th>TV Shows</th>\n",
       "      <td>1.547529</td>\n",
       "    </tr>\n",
       "    <tr>\n",
       "      <th>Talk Show and Variety</th>\n",
       "      <td>1.000000</td>\n",
       "    </tr>\n",
       "    <tr>\n",
       "      <th>Unscripted</th>\n",
       "      <td>2.758621</td>\n",
       "    </tr>\n",
       "    <tr>\n",
       "      <th>Western</th>\n",
       "      <td>0.029412</td>\n",
       "    </tr>\n",
       "    <tr>\n",
       "      <th>Young Adult Audience</th>\n",
       "      <td>0.333333</td>\n",
       "    </tr>\n",
       "  </tbody>\n",
       "</table>\n",
       "</div>"
      ],
      "text/plain": [
       "                           duration_season\n",
       "Genre1                                    \n",
       "Action                            0.161135\n",
       "Adventure                         0.197183\n",
       "Animation                         0.857430\n",
       "Anime                             0.795455\n",
       "Arthouse                          0.007576\n",
       "Arts                              0.113786\n",
       "Comedy                            0.307119\n",
       "Documentary                       0.483023\n",
       "Drama                             0.219765\n",
       "Faith and Spirituality            0.076923\n",
       "Fantasy                           0.111111\n",
       "Fitness                           0.144578\n",
       "Historical                        0.000000\n",
       "Horror                            0.024299\n",
       "International                     0.255319\n",
       "Kids                              0.785523\n",
       "LGBTQ                             0.307692\n",
       "Military and War                  0.000000\n",
       "Music Videos and Concerts         0.029126\n",
       "Romance                           0.055556\n",
       "Science Fiction                   0.364706\n",
       "Special Interest                  0.638298\n",
       "Sports                            0.842105\n",
       "Suspense                          0.051546\n",
       "TV Shows                          1.547529\n",
       "Talk Show and Variety             1.000000\n",
       "Unscripted                        2.758621\n",
       "Western                           0.029412\n",
       "Young Adult Audience              0.333333"
      ]
     },
     "execution_count": 19,
     "metadata": {},
     "output_type": "execute_result"
    }
   ],
   "source": [
    "#15. What is the average seasons of tv shows by genre1\n",
    "dataset.groupby('Genre1').agg({'duration_season':('mean')})"
   ]
  },
  {
   "cell_type": "code",
   "execution_count": 20,
   "id": "003cecbe",
   "metadata": {
    "execution": {
     "iopub.execute_input": "2023-03-03T15:32:27.305142Z",
     "iopub.status.busy": "2023-03-03T15:32:27.304701Z",
     "iopub.status.idle": "2023-03-03T15:32:27.322035Z",
     "shell.execute_reply": "2023-03-03T15:32:27.320272Z"
    },
    "papermill": {
     "duration": 0.030565,
     "end_time": "2023-03-03T15:32:27.324929",
     "exception": false,
     "start_time": "2023-03-03T15:32:27.294364",
     "status": "completed"
    },
    "tags": []
   },
   "outputs": [
    {
     "name": "stdout",
     "output_type": "stream",
     "text": [
      "Mark Knight              113\n",
      "Cannis Holder             61\n",
      "Moonbug Entertainment     37\n",
      "Jay Chapman               34\n",
      "Arthur van Merwijk        30\n",
      "                        ... \n",
      "Andrew Traucki             1\n",
      "Karyn Kusama               1\n",
      "K. Subash                  1\n",
      "Robert Cuffley             1\n",
      "Steve Barker               1\n",
      "Name: director, Length: 5774, dtype: int64\n"
     ]
    }
   ],
   "source": [
    "#16. Highest movies and tv shows by Director\n",
    "dire = dataset[dataset['type']=='Movie']['director'].value_counts()\n",
    "print(dire)\n"
   ]
  },
  {
   "cell_type": "code",
   "execution_count": 21,
   "id": "8c29829d",
   "metadata": {
    "execution": {
     "iopub.execute_input": "2023-03-03T15:32:27.345107Z",
     "iopub.status.busy": "2023-03-03T15:32:27.344666Z",
     "iopub.status.idle": "2023-03-03T15:32:27.358049Z",
     "shell.execute_reply": "2023-03-03T15:32:27.356599Z"
    },
    "papermill": {
     "duration": 0.028323,
     "end_time": "2023-03-03T15:32:27.362314",
     "exception": false,
     "start_time": "2023-03-03T15:32:27.333991",
     "status": "completed"
    },
    "tags": []
   },
   "outputs": [
    {
     "name": "stdout",
     "output_type": "stream",
     "text": [
      "0       False\n",
      "1       False\n",
      "2       False\n",
      "3       False\n",
      "4       False\n",
      "        ...  \n",
      "9663    False\n",
      "9664      NaN\n",
      "9665    False\n",
      "9666      NaN\n",
      "9667    False\n",
      "Name: director, Length: 9668, dtype: object\n"
     ]
    }
   ],
   "source": [
    "markk = dataset['director'].str.startswith('Mark')\n",
    "print(markk)"
   ]
  },
  {
   "cell_type": "code",
   "execution_count": 22,
   "id": "32a5bc3c",
   "metadata": {
    "execution": {
     "iopub.execute_input": "2023-03-03T15:32:27.383303Z",
     "iopub.status.busy": "2023-03-03T15:32:27.382890Z",
     "iopub.status.idle": "2023-03-03T15:32:27.392048Z",
     "shell.execute_reply": "2023-03-03T15:32:27.390765Z"
    },
    "papermill": {
     "duration": 0.023179,
     "end_time": "2023-03-03T15:32:27.395286",
     "exception": false,
     "start_time": "2023-03-03T15:32:27.372107",
     "status": "completed"
    },
    "tags": []
   },
   "outputs": [
    {
     "name": "stdout",
     "output_type": "stream",
     "text": [
      "Series([], Name: director, dtype: int64)\n"
     ]
    }
   ],
   "source": [
    "#16. Highest movies and tv shows by Director ANS: NONE\n",
    "tvs = dataset[dataset['type']=='TVShow']['director'].value_counts()\n",
    "print(tvs)"
   ]
  },
  {
   "cell_type": "code",
   "execution_count": 23,
   "id": "72334b6e",
   "metadata": {
    "execution": {
     "iopub.execute_input": "2023-03-03T15:32:27.416187Z",
     "iopub.status.busy": "2023-03-03T15:32:27.415735Z",
     "iopub.status.idle": "2023-03-03T15:32:29.194099Z",
     "shell.execute_reply": "2023-03-03T15:32:29.192766Z"
    },
    "papermill": {
     "duration": 1.792791,
     "end_time": "2023-03-03T15:32:29.197095",
     "exception": false,
     "start_time": "2023-03-03T15:32:27.404304",
     "status": "completed"
    },
    "tags": []
   },
   "outputs": [
    {
     "data": {
      "text/plain": [
       "<AxesSubplot:xlabel='count', ylabel='Genre1'>"
      ]
     },
     "execution_count": 23,
     "metadata": {},
     "output_type": "execute_result"
    },
    {
     "data": {
      "image/png": "[encoded data removed]",
      "text/plain": [
       "<Figure size 2000x1000 with 1 Axes>"
      ]
     },
     "metadata": {},
     "output_type": "display_data"
    }
   ],
   "source": [
    "import seaborn as sns\n",
    "fig = plt.figure(figsize=(20,10))\n",
    "sns.countplot(y='Genre1', data=dataset)"
   ]
  },
  {
   "cell_type": "code",
   "execution_count": 24,
   "id": "d882aabe",
   "metadata": {
    "execution": {
     "iopub.execute_input": "2023-03-03T15:32:29.221848Z",
     "iopub.status.busy": "2023-03-03T15:32:29.220287Z",
     "iopub.status.idle": "2023-03-03T15:32:29.240125Z",
     "shell.execute_reply": "2023-03-03T15:32:29.238772Z"
    },
    "papermill": {
     "duration": 0.03468,
     "end_time": "2023-03-03T15:32:29.242680",
     "exception": false,
     "start_time": "2023-03-03T15:32:29.208000",
     "status": "completed"
    },
    "tags": []
   },
   "outputs": [
    {
     "data": {
      "text/html": [
       "<div>\n",
       "<style scoped>\n",
       "    .dataframe tbody tr th:only-of-type {\n",
       "        vertical-align: middle;\n",
       "    }\n",
       "\n",
       "    .dataframe tbody tr th {\n",
       "        vertical-align: top;\n",
       "    }\n",
       "\n",
       "    .dataframe thead th {\n",
       "        text-align: right;\n",
       "    }\n",
       "</style>\n",
       "<table border=\"1\" class=\"dataframe\">\n",
       "  <thead>\n",
       "    <tr style=\"text-align: right;\">\n",
       "      <th></th>\n",
       "      <th>title</th>\n",
       "      <th>duration_movie</th>\n",
       "    </tr>\n",
       "  </thead>\n",
       "  <tbody>\n",
       "    <tr>\n",
       "      <th>933</th>\n",
       "      <td>Soothing Surf at Del Norte for Sleep black screen</td>\n",
       "      <td>601</td>\n",
       "    </tr>\n",
       "  </tbody>\n",
       "</table>\n",
       "</div>"
      ],
      "text/plain": [
       "                                                 title  duration_movie\n",
       "933  Soothing Surf at Del Norte for Sleep black screen             601"
      ]
     },
     "execution_count": 24,
     "metadata": {},
     "output_type": "execute_result"
    }
   ],
   "source": [
    "#17. Which type of genre generally have highest and smallest duration in movie\n",
    "movie1 = dataset.sort_values('duration_movie', ascending = False)\n",
    "movie1[['title', 'duration_movie']][:1]"
   ]
  },
  {
   "cell_type": "code",
   "execution_count": 25,
   "id": "ad6266fa",
   "metadata": {
    "execution": {
     "iopub.execute_input": "2023-03-03T15:32:29.266577Z",
     "iopub.status.busy": "2023-03-03T15:32:29.266057Z",
     "iopub.status.idle": "2023-03-03T15:32:29.292886Z",
     "shell.execute_reply": "2023-03-03T15:32:29.291557Z"
    },
    "papermill": {
     "duration": 0.04221,
     "end_time": "2023-03-03T15:32:29.295617",
     "exception": false,
     "start_time": "2023-03-03T15:32:29.253407",
     "status": "completed"
    },
    "tags": []
   },
   "outputs": [
    {
     "data": {
      "text/html": [
       "<div>\n",
       "<style scoped>\n",
       "    .dataframe tbody tr th:only-of-type {\n",
       "        vertical-align: middle;\n",
       "    }\n",
       "\n",
       "    .dataframe tbody tr th {\n",
       "        vertical-align: top;\n",
       "    }\n",
       "\n",
       "    .dataframe thead th {\n",
       "        text-align: right;\n",
       "    }\n",
       "</style>\n",
       "<table border=\"1\" class=\"dataframe\">\n",
       "  <thead>\n",
       "    <tr style=\"text-align: right;\">\n",
       "      <th></th>\n",
       "      <th>title</th>\n",
       "      <th>duration_movie</th>\n",
       "    </tr>\n",
       "  </thead>\n",
       "  <tbody>\n",
       "    <tr>\n",
       "      <th>1894</th>\n",
       "      <td>Learn Colors and Race Cars with Max the Glow T...</td>\n",
       "      <td>10</td>\n",
       "    </tr>\n",
       "    <tr>\n",
       "      <th>5950</th>\n",
       "      <td>Gretchen - The Tragedy</td>\n",
       "      <td>10</td>\n",
       "    </tr>\n",
       "    <tr>\n",
       "      <th>9530</th>\n",
       "      <td>The A Team: Making a Scene</td>\n",
       "      <td>10</td>\n",
       "    </tr>\n",
       "    <tr>\n",
       "      <th>9558</th>\n",
       "      <td>Date Night: Making a Scene</td>\n",
       "      <td>10</td>\n",
       "    </tr>\n",
       "    <tr>\n",
       "      <th>6340</th>\n",
       "      <td>Dinosaur Park Mission Part 5 - T-Rex Ranch</td>\n",
       "      <td>10</td>\n",
       "    </tr>\n",
       "    <tr>\n",
       "      <th>...</th>\n",
       "      <td>...</td>\n",
       "      <td>...</td>\n",
       "    </tr>\n",
       "    <tr>\n",
       "      <th>2368</th>\n",
       "      <td>Gentle evening rain</td>\n",
       "      <td>541</td>\n",
       "    </tr>\n",
       "    <tr>\n",
       "      <th>2367</th>\n",
       "      <td>Gentle Midnight Rain black screen 9 hours</td>\n",
       "      <td>541</td>\n",
       "    </tr>\n",
       "    <tr>\n",
       "      <th>5214</th>\n",
       "      <td>Black Screen Ocean Waves for Sleep 9 hours</td>\n",
       "      <td>541</td>\n",
       "    </tr>\n",
       "    <tr>\n",
       "      <th>3850</th>\n",
       "      <td>Himalayan Singing Bowls 9 hours</td>\n",
       "      <td>550</td>\n",
       "    </tr>\n",
       "    <tr>\n",
       "      <th>933</th>\n",
       "      <td>Soothing Surf at Del Norte for Sleep black screen</td>\n",
       "      <td>601</td>\n",
       "    </tr>\n",
       "  </tbody>\n",
       "</table>\n",
       "<p>7738 rows × 2 columns</p>\n",
       "</div>"
      ],
      "text/plain": [
       "                                                  title  duration_movie\n",
       "1894  Learn Colors and Race Cars with Max the Glow T...              10\n",
       "5950                             Gretchen - The Tragedy              10\n",
       "9530                         The A Team: Making a Scene              10\n",
       "9558                         Date Night: Making a Scene              10\n",
       "6340         Dinosaur Park Mission Part 5 - T-Rex Ranch              10\n",
       "...                                                 ...             ...\n",
       "2368                                Gentle evening rain             541\n",
       "2367          Gentle Midnight Rain black screen 9 hours             541\n",
       "5214         Black Screen Ocean Waves for Sleep 9 hours             541\n",
       "3850                    Himalayan Singing Bowls 9 hours             550\n",
       "933   Soothing Surf at Del Norte for Sleep black screen             601\n",
       "\n",
       "[7738 rows x 2 columns]"
      ]
     },
     "execution_count": 25,
     "metadata": {},
     "output_type": "execute_result"
    }
   ],
   "source": [
    "movie2 = dataset.sort_values('duration_movie', ascending = True)\n",
    "movie2 = movie2[movie2['duration_movie'] >= 10]\n",
    "movie2[['title', 'duration_movie']]"
   ]
  },
  {
   "cell_type": "code",
   "execution_count": 26,
   "id": "54399334",
   "metadata": {
    "execution": {
     "iopub.execute_input": "2023-03-03T15:32:29.319429Z",
     "iopub.status.busy": "2023-03-03T15:32:29.318698Z",
     "iopub.status.idle": "2023-03-03T15:32:29.333702Z",
     "shell.execute_reply": "2023-03-03T15:32:29.332064Z"
    },
    "papermill": {
     "duration": 0.030306,
     "end_time": "2023-03-03T15:32:29.336458",
     "exception": false,
     "start_time": "2023-03-03T15:32:29.306152",
     "status": "completed"
    },
    "tags": []
   },
   "outputs": [
    {
     "data": {
      "text/plain": [
       "2021    1139\n",
       "2020     736\n",
       "2019     730\n",
       "2018     438\n",
       "2017     404\n",
       "        ... \n",
       "1926       2\n",
       "1922       2\n",
       "1923       1\n",
       "1924       1\n",
       "1927       1\n",
       "Name: release_year, Length: 100, dtype: int64"
      ]
     },
     "execution_count": 26,
     "metadata": {},
     "output_type": "execute_result"
    }
   ],
   "source": [
    "#18. Each year how many movie and tv show released\n",
    "dataset[dataset['type']=='Movie'].release_year.value_counts()"
   ]
  },
  {
   "cell_type": "code",
   "execution_count": 27,
   "id": "f9fdb19c",
   "metadata": {
    "execution": {
     "iopub.execute_input": "2023-03-03T15:32:29.360091Z",
     "iopub.status.busy": "2023-03-03T15:32:29.359622Z",
     "iopub.status.idle": "2023-03-03T15:32:29.372874Z",
     "shell.execute_reply": "2023-03-03T15:32:29.371369Z"
    },
    "papermill": {
     "duration": 0.028488,
     "end_time": "2023-03-03T15:32:29.375705",
     "exception": false,
     "start_time": "2023-03-03T15:32:29.347217",
     "status": "completed"
    },
    "tags": []
   },
   "outputs": [
    {
     "data": {
      "text/plain": [
       "2021    303\n",
       "2020    226\n",
       "2019    199\n",
       "2018    185\n",
       "2017    158\n",
       "2016    119\n",
       "2014     96\n",
       "2015     96\n",
       "2013     62\n",
       "2012     55\n",
       "2011     40\n",
       "2010     34\n",
       "2008     33\n",
       "2009     32\n",
       "2005     21\n",
       "2007     19\n",
       "2006     18\n",
       "2004     14\n",
       "2003     13\n",
       "1995     10\n",
       "1999      9\n",
       "2001      9\n",
       "2000      9\n",
       "2002      9\n",
       "1998      7\n",
       "1989      6\n",
       "1997      6\n",
       "1978      5\n",
       "1986      4\n",
       "1990      4\n",
       "1992      4\n",
       "1993      3\n",
       "1954      3\n",
       "1991      3\n",
       "1984      3\n",
       "1981      3\n",
       "1974      3\n",
       "1994      3\n",
       "1969      2\n",
       "1985      2\n",
       "1959      2\n",
       "1988      2\n",
       "1963      2\n",
       "1967      2\n",
       "1996      2\n",
       "1932      1\n",
       "1987      1\n",
       "1968      1\n",
       "1946      1\n",
       "1960      1\n",
       "1962      1\n",
       "1955      1\n",
       "1961      1\n",
       "1945      1\n",
       "1972      1\n",
       "1979      1\n",
       "1936      1\n",
       "1975      1\n",
       "1983      1\n",
       "Name: release_year, dtype: int64"
      ]
     },
     "execution_count": 27,
     "metadata": {},
     "output_type": "execute_result"
    }
   ],
   "source": [
    "#18. Each year how many movie and tv show released\n",
    "dataset[dataset['type']=='TV Show'].release_year.value_counts()"
   ]
  }
 ],
 "metadata": {
  "kernelspec": {
   "display_name": "Python 3",
   "language": "python",
   "name": "python3"
  },
  "language_info": {
   "codemirror_mode": {
    "name": "ipython",
    "version": 3
   },
   "file_extension": ".py",
   "mimetype": "text/x-python",
   "name": "python",
   "nbconvert_exporter": "python",
   "pygments_lexer": "ipython3",
   "version": "3.7.12"
  },
  "papermill": {
   "default_parameters": {},
   "duration": 16.391638,
   "end_time": "2023-03-03T15:32:30.211654",
   "environment_variables": {},
   "exception": null,
   "input_path": "__notebook__.ipynb",
   "output_path": "__notebook__.ipynb",
   "parameters": {},
   "start_time": "2023-03-03T15:32:13.820016",
   "version": "2.4.0"
  }
 },
 "nbformat": 4,
 "nbformat_minor": 5
}
